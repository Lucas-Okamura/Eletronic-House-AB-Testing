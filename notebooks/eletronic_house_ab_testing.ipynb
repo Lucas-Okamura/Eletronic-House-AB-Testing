{
 "cells": [
  {
   "cell_type": "markdown",
   "metadata": {},
   "source": [
    "# Eletronic House AB Testing"
   ]
  },
  {
   "cell_type": "markdown",
   "metadata": {},
   "source": [
    "## Solution Planning\n",
    "\n",
    "### Methodology\n",
    "\n",
    "1. Hyphotesis testing\n",
    "2. A/B testing\n",
    "\n",
    "### Experiment Design\n",
    "\n",
    "1. Hyphoteses formulation\n",
    "    * Null Hyphotesis\n",
    "    * Alternative Hypothesis\n",
    "    * One-Tailed Test or Two-Tailed Test\n",
    "    * Confidence Index definition\n",
    "2. Variable Definition\n",
    "    * Definition of evaluation metric or dependent variable\n",
    "3. Separing groups\n",
    "    * Control group\n",
    "    * Treatment group\n",
    "    * Definition of sample size\n",
    "\n",
    "### Data Collection and Preparation \n",
    "\n",
    "1. Data Collection\n",
    "2. Data Preparation\n",
    "3. Groups conversions\n",
    "\n",
    "### Testing Hypotheses\n",
    "\n",
    "1. Statistical Inference method definition\n",
    "2. p-value calculation\n",
    "\n",
    "### Conclusions\n",
    "\n",
    "1. p-value interpretation\n",
    "2. Initial hypotheses validation\n",
    "3. Conclusion\n",
    "4. Sales potential of the new page\n",
    "5. Potential income of the product"
   ]
  },
  {
   "cell_type": "markdown",
   "metadata": {},
   "source": []
  }
 ],
 "metadata": {
  "language_info": {
   "name": "python"
  },
  "orig_nbformat": 4
 },
 "nbformat": 4,
 "nbformat_minor": 2
}
